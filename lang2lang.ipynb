{
 "cells": [
  {
   "cell_type": "markdown",
   "metadata": {
    "collapsed": true
   },
   "source": [
    "# Preparation\n",
    "\n",
    "## Step 1 - Training Data\n",
    "\n",
    "Gather a bunch of Finnish words and Google Translate them to English (dictionary would be even better). "
   ]
  },
  {
   "cell_type": "code",
   "execution_count": 1,
   "metadata": {
    "collapsed": false
   },
   "outputs": [
    {
     "name": "stdout",
     "output_type": "stream",
     "text": [
      "Top 20 and bottom 20, straight from Google Translate\n",
      "ja <--> and\n",
      "ei <--> No\n",
      "tämä <--> this\n",
      "voida <--> be\n",
      "saada <--> get\n",
      "kun <--> when\n",
      "minä <--> I\n",
      "kaikki <--> all\n",
      "vuosi <--> year\n",
      "muu <--> other\n",
      "pitää <--> keep\n",
      "nyt <--> now\n",
      "sekä <--> mixed\n",
      "jo <--> already\n",
      "sitten <--> then\n",
      "toinen <--> second\n",
      "asia <--> thing\n",
      "käyttää <--> use\n",
      "sinä <--> you\n",
      "ottaa <--> take\n",
      "käyttökokemus <--> User experience\n",
      "fanittaa <--> legions of fans\n",
      "Oskari <--> Oskari\n",
      "kallo <--> skull\n",
      "helliä <--> cherish\n",
      "Kaarle <--> Charles\n",
      "isosisko <--> big sister\n",
      "päihittää <--> outdo\n",
      "nimenhuuto <--> roll call\n",
      "kiusa <--> nuisance\n",
      "hyväntuulinen <--> good-humored\n",
      "Johnny <--> Johnny\n",
      "kilpailuetu <--> competitive\n",
      "huoliaihe <--> worry topic\n",
      "päivätä <--> date\n",
      "Amanda <--> Amanda\n",
      "kyynärpää <--> elbow\n",
      "guru <--> guru\n",
      "kotiin <--> home\n",
      "ilmoitella <--> placard\n"
     ]
    }
   ],
   "source": [
    "import codecs\n",
    "eng=list(map(unicode.strip,codecs.open(\"eng_5k.txt\",\"r\",\"utf-8\")))\n",
    "fi=list(map(unicode.strip,codecs.open(\"fin_5k.txt\",\"r\",\"utf-8\")))\n",
    "print \"Top 20 and bottom 20, straight from Google Translate\"\n",
    "for e,f in zip(eng[:20]+eng[-20:],fi[:20]+fi[-20:]):\n",
    "    print f, \"<-->\", e\n",
    "    "
   ]
  },
  {
   "cell_type": "markdown",
   "metadata": {},
   "source": [
    "## Step 2 - Turn words to vectors\n",
    "\n",
    "A look-up in a ready-made list."
   ]
  },
  {
   "cell_type": "code",
   "execution_count": 3,
   "metadata": {
    "collapsed": false
   },
   "outputs": [
    {
     "name": "stdout",
     "output_type": "stream",
     "text": [
      "Learning on 3416 Finnish-English word pairs\n"
     ]
    }
   ],
   "source": [
    "import lwvlib\n",
    "#Finnish (lemma) and English models, load first 100K words by occurrence count\n",
    "finwv=lwvlib.load(\"pb34_lemma_200_v2.bin\",100000,100000)\n",
    "engwv=lwvlib.load(\"GoogleNews-vectors-negative300.bin\",100000,100000)\n",
    "\n",
    "#The code below is just a technical code to gather the positions\n",
    "#in vocabulary of the words which correspond to each other\n",
    "#we need both the source and the translation word to be in the models\n",
    "fin_rows=[]\n",
    "eng_rows=[]\n",
    "for i,(w_fi,w_en) in enumerate(zip(fi,eng)):\n",
    "    k_fin=finwv.get(w_fi)\n",
    "    k_eng=engwv.get(w_en)\n",
    "    if k_fin and k_eng:\n",
    "        fin_rows.append(k_fin)\n",
    "        eng_rows.append(k_eng)\n",
    "\n",
    "train_fin=finwv.vectors[fin_rows]\n",
    "train_eng=engwv.vectors[eng_rows]\n",
    "print \"Learning on\",len(fin_rows),\"Finnish-English word pairs\""
   ]
  },
  {
   "cell_type": "code",
   "execution_count": 4,
   "metadata": {
    "collapsed": false
   },
   "outputs": [
    {
     "name": "stderr",
     "output_type": "stream",
     "text": [
      "Using Theano backend.\n",
      "/usr/local/lib/python2.7/dist-packages/Theano-0.8.0rc1-py2.7.egg/theano/tensor/signal/downsample.py:6: UserWarning: downsample module has been moved to the theano.tensor.signal.pool module.\n",
      "  \"downsample module has been moved to the theano.tensor.signal.pool module.\")\n"
     ]
    },
    {
     "data": {
      "text/plain": [
       "<keras.callbacks.History at 0x7aa0310>"
      ]
     },
     "execution_count": 4,
     "metadata": {},
     "output_type": "execute_result"
    }
   ],
   "source": [
    "# Machine learning mambo jambo, takes few minutes to run\n",
    "from keras.models import Sequential\n",
    "from keras.layers.core import Dense, Activation\n",
    "\n",
    "dim_in,dim_internal,dim_out=train_fin.shape[1],200,train_eng.shape[1]\n",
    "\n",
    "#Neural network:\n",
    "model = Sequential()\n",
    "#Non-linear layer #1\n",
    "model.add(Dense(dim_internal, input_dim=dim_in))\n",
    "model.add(Activation(\"tanh\"))\n",
    "#Non-linear layer #2, because why not :)\n",
    "model.add(Dense(dim_internal))\n",
    "model.add(Activation(\"tanh\"))\n",
    "#Linear projection at the end\n",
    "model.add(Dense(dim_out))\n",
    "\n",
    "#Learn!\n",
    "model.compile(loss='mse', optimizer='Adadelta')\n",
    "model.fit(train_fin,train_eng,verbose=0,batch_size=200)\n"
   ]
  },
  {
   "cell_type": "markdown",
   "metadata": {},
   "source": [
    "Now we have learned to map from the Finnish space into the English space. It only took few minutes. Does it then work? Let's see!"
   ]
  },
  {
   "cell_type": "code",
   "execution_count": 11,
   "metadata": {
    "collapsed": false
   },
   "outputs": [
    {
     "name": "stdout",
     "output_type": "stream",
     "text": [
      "maha#haava --> bacterial_infection, liver, diarrhea, allergic_reaction, asthma\n",
      "julma --> wicked, savage, brutal, loathsome, vicious\n",
      "epä#reilu --> foolish, ridiculous, silly, hypocritical, absurd\n",
      "koira --> dog, cat, puppy, dad, mother\n",
      "viini --> tasting, chocolate, gourmet, wines, delicious\n",
      "oksennus --> puke, flatulence, vomiting, stinking, stink\n",
      "vahvistin --> stereo, subwoofer, amplifiers, hi_fi, stereo_speakers\n",
      "läppäri --> handset, projector, netbook, gadget, smartphone\n",
      "ikkuna --> window, porch, roof, skylight, front_porch\n",
      "kuolema --> life, earthly, perish, salvation, remarry\n",
      "pylly --> bum, ass, thighs, chin, forehead\n",
      "sohva --> sofa, downstairs, bed, bathroom, tub\n",
      "maito --> buttermilk, apple_juice, chocolate, yogurt, cow_milk\n",
      "epä#toivoinen --> terrible, desperate, mad, horrible, foolish\n",
      "iloinen --> wonderful, lovely, happy, nice, cheerful\n",
      "lentäjä --> fighter_pilot, paratrooper, policeman, stuntman, sailor\n",
      "kolaroida --> accident, wreck, crash, fatal, mishap\n",
      "masennus --> depression, chronic_illness, psychological_trauma, chronic, hypertension\n",
      "mania --> manic, madness, adrenaline_rush, exhilaration, excitement\n",
      "hymy --> smile, sneer, smiling, Wow, laugh\n",
      "viina --> whiskey, drink, beer, chocolate, soda\n",
      "kuolla --> dying, perish, commit_suicide, kill, marry\n",
      "juoda --> eat, pint, drinks, snack, drank\n",
      "syödä --> munch, eating, devour, feed, gobble\n"
     ]
    }
   ],
   "source": [
    "#This code below does the translation using\n",
    "#the model we learned before\n",
    "import numpy\n",
    "\n",
    "def fin2eng(word,N=5):\n",
    "    x=finwv.get(w)\n",
    "    if not x:\n",
    "        return u\"not-in-top-100K-words\"\n",
    "    vec=finwv.vectors[x]\n",
    "    vec=vec.reshape((1,dim_in))\n",
    "    vec_transl=model.predict(vec)\n",
    "    vec_transl/=numpy.linalg.norm(x=vec_transl,ord=None)\n",
    "    sims=vec_transl.dot(engwv.vectors.T)\n",
    "    sims=(sims/engwv.norm_constants)[0]\n",
    "    translations= sorted(((sims[idx],engwv.words[idx]) \\\n",
    "              for idx in numpy.argpartition(sims,-N-1)[-N-1:]), reverse=True)[1:]\n",
    "    return u\", \".join(w for sim,w in translations)\n",
    "\n",
    "finnish_lemmas=u\"maha#haava,julma,epä#reilu,koira,viini,oksennus,vahvistin,läppäri,\\\n",
    "ikkuna,kuolema,pylly,sohva,maito,epä#toivoinen,iloinen,lentäjä,kolaroida,\\\n",
    "masennus,mania,hymy,viina,kuolla,juoda,syödä\"\n",
    "for w in finnish_lemmas.split(u\",\"):\n",
    "    print w, u\"-->\", fin2eng(w)"
   ]
  },
  {
   "cell_type": "markdown",
   "metadata": {
    "collapsed": true
   },
   "source": [
    "# Damn! Those are not bad!\n",
    "\n",
    "Let's have a look at the spaces before and after mapping to see what's going on.\n"
   ]
  },
  {
   "cell_type": "code",
   "execution_count": 17,
   "metadata": {
    "collapsed": false
   },
   "outputs": [
    {
     "data": {
      "image/png": "[encoded data removed]",
      "text/plain": [
       "<matplotlib.figure.Figure at 0xacfd750>"
      ]
     },
     "metadata": {},
     "output_type": "display_data"
    }
   ],
   "source": [
    "%matplotlib inline\n",
    "import matplotlib.pyplot as plt\n",
    "import sklearn.decomposition\n",
    "\n",
    "words,word_indices=[],[]\n",
    "for w in finnish_lemmas.split(u\",\"):\n",
    "    x=finwv.get(w)\n",
    "    if not x:\n",
    "        continue\n",
    "    words.append(w)\n",
    "    word_indices.append(x)\n",
    "vectors=finwv.vectors[word_indices]\n",
    "#make them two-dimensional with PCA\n",
    "pca2=sklearn.decomposition.PCA(2)\n",
    "fin_vectors2d=pca2.fit_transform(vectors)\n",
    "plt.scatter(fin_vectors2d[:,0],fin_vectors2d[:,1])\n",
    "for widx,w in enumerate(words):\n",
    "    plt.annotate(s=w,xy=fin_vectors2d[widx],xytext=fin_vectors2d[widx]+(0.1,0.05))"
   ]
  }
 ],
 "metadata": {
  "kernelspec": {
   "display_name": "Python 2",
   "language": "python",
   "name": "python2"
  },
  "language_info": {
   "codemirror_mode": {
    "name": "ipython",
    "version": 2
   },
   "file_extension": ".py",
   "mimetype": "text/x-python",
   "name": "python",
   "nbconvert_exporter": "python",
   "pygments_lexer": "ipython2",
   "version": "2.7.5+"
  }
 },
 "nbformat": 4,
 "nbformat_minor": 0
}
